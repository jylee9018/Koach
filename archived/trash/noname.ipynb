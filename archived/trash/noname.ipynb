{
 "cells": [
  {
   "cell_type": "code",
   "execution_count": 1,
   "id": "15a105a5",
   "metadata": {},
   "outputs": [
    {
     "name": "stdout",
     "output_type": "stream",
     "text": [
      "Collecting g2pk\n",
      "  Downloading g2pK-0.9.4-py3-none-any.whl.metadata (7.5 kB)\n",
      "Collecting jamo (from g2pk)\n",
      "  Downloading jamo-0.4.1-py3-none-any.whl.metadata (2.3 kB)\n",
      "Requirement already satisfied: nltk in /Users/jlee/anaconda3/envs/noname/lib/python3.11/site-packages (from g2pk) (3.9.1)\n",
      "Requirement already satisfied: konlpy in /Users/jlee/anaconda3/envs/noname/lib/python3.11/site-packages (from g2pk) (0.6.0)\n",
      "Collecting python-mecab-ko (from g2pk)\n",
      "  Downloading python_mecab_ko-1.3.7-cp311-cp311-macosx_11_0_arm64.whl.metadata (3.4 kB)\n",
      "Requirement already satisfied: JPype1>=0.7.0 in /Users/jlee/anaconda3/envs/noname/lib/python3.11/site-packages (from konlpy->g2pk) (1.4.1)\n",
      "Requirement already satisfied: lxml>=4.1.0 in /Users/jlee/anaconda3/envs/noname/lib/python3.11/site-packages (from konlpy->g2pk) (5.2.1)\n",
      "Requirement already satisfied: numpy>=1.6 in /Users/jlee/anaconda3/envs/noname/lib/python3.11/site-packages (from konlpy->g2pk) (1.26.4)\n",
      "Requirement already satisfied: click in /Users/jlee/anaconda3/envs/noname/lib/python3.11/site-packages (from nltk->g2pk) (8.1.7)\n",
      "Requirement already satisfied: joblib in /Users/jlee/anaconda3/envs/noname/lib/python3.11/site-packages (from nltk->g2pk) (1.4.2)\n",
      "Requirement already satisfied: regex>=2021.8.3 in /Users/jlee/anaconda3/envs/noname/lib/python3.11/site-packages (from nltk->g2pk) (2024.9.11)\n",
      "Requirement already satisfied: tqdm in /Users/jlee/anaconda3/envs/noname/lib/python3.11/site-packages (from nltk->g2pk) (4.66.5)\n",
      "Collecting python-mecab-ko-dic (from python-mecab-ko->g2pk)\n",
      "  Downloading python_mecab_ko_dic-2.1.1.post2-py3-none-any.whl.metadata (1.4 kB)\n",
      "Requirement already satisfied: packaging in /Users/jlee/anaconda3/envs/noname/lib/python3.11/site-packages (from JPype1>=0.7.0->konlpy->g2pk) (24.1)\n",
      "Downloading g2pK-0.9.4-py3-none-any.whl (27 kB)\n",
      "Downloading jamo-0.4.1-py3-none-any.whl (9.5 kB)\n",
      "Downloading python_mecab_ko-1.3.7-cp311-cp311-macosx_11_0_arm64.whl (350 kB)\n",
      "Downloading python_mecab_ko_dic-2.1.1.post2-py3-none-any.whl (34.5 MB)\n",
      "\u001b[2K   \u001b[90m━━━━━━━━━━━━━━━━━━━━━━━━━━━━━━━━━━━━━━━━\u001b[0m \u001b[32m34.5/34.5 MB\u001b[0m \u001b[31m18.2 MB/s\u001b[0m eta \u001b[36m0:00:00\u001b[0m00:01\u001b[0m00:01\u001b[0m\n",
      "\u001b[?25hInstalling collected packages: python-mecab-ko-dic, jamo, python-mecab-ko, g2pk\n",
      "Successfully installed g2pk-0.9.4 jamo-0.4.1 python-mecab-ko-1.3.7 python-mecab-ko-dic-2.1.1.post2\n"
     ]
    }
   ],
   "source": [
    "!pip install g2pk"
   ]
  },
  {
   "cell_type": "code",
   "execution_count": null,
   "id": "f132bab2",
   "metadata": {},
   "outputs": [
    {
     "name": "stdout",
     "output_type": "stream",
     "text": [
      "감사함니다\n"
     ]
    }
   ],
   "source": [
    "# g2pk: Graphme-to-Phoneme for Korean\n",
    "# 한글 문장을 실제 발음에 가깝게 음소 단위(발음기호)로 변환해주는 파이썬 라이브러리\n",
    "from g2pk import G2p\n",
    "\n",
    "g2p = G2p()\n",
    "result = g2p(\"감사합니다\")\n",
    "print(result)"
   ]
  },
  {
   "cell_type": "code",
   "execution_count": null,
   "id": "0b855a0a",
   "metadata": {},
   "outputs": [],
   "source": []
  }
 ],
 "metadata": {
  "kernelspec": {
   "display_name": "noname",
   "language": "python",
   "name": "python3"
  },
  "language_info": {
   "codemirror_mode": {
    "name": "ipython",
    "version": 3
   },
   "file_extension": ".py",
   "mimetype": "text/x-python",
   "name": "python",
   "nbconvert_exporter": "python",
   "pygments_lexer": "ipython3",
   "version": "3.11.0"
  }
 },
 "nbformat": 4,
 "nbformat_minor": 5
}
