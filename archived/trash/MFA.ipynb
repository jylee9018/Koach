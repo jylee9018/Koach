{
 "cells": [
  {
   "cell_type": "code",
   "execution_count": 1,
   "metadata": {},
   "outputs": [],
   "source": [
    "# # 필요한 패키지 설치 (한 번만 실행하면 됨)\n",
    "# !pip install pydub praatio matplotlib\n",
    "# !brew install ffmpeg  # macOS 사용 시 필수 (Linux: sudo apt install ffmpeg)"
   ]
  },
  {
   "cell_type": "code",
   "execution_count": 2,
   "metadata": {},
   "outputs": [],
   "source": [
    "import os\n",
    "import shutil\n",
    "import subprocess\n",
    "from pydub import AudioSegment\n",
    "from praatio import textgrid\n",
    "import matplotlib.pyplot as plt\n",
    "\n",
    "# === 1. 경로 설정 ===\n",
    "base_dir = os.getcwd()\n",
    "m4a_dir = os.path.join(base_dir, \"m4a\")  # 원본 m4a 파일 경로\n",
    "wav_dir = os.path.join(base_dir, \"wav\")\n",
    "txt_dir = os.path.join(base_dir, \"wav\")\n",
    "lexicon_path = os.path.join(base_dir, \"lexicon.txt\")\n",
    "# model_path = os.path.join(base_dir, \"korean_model.zip\")\n",
    "model_path = os.path.join(\n",
    "    \"/Users/jlee/Documents/MFA/pretrained_models/acoustic\", \"korean_mfa.zip\"\n",
    ")\n",
    "output_dir = os.path.join(base_dir, \"aligned\")\n",
    "\n",
    "os.makedirs(wav_dir, exist_ok=True)\n",
    "os.makedirs(txt_dir, exist_ok=True)\n",
    "os.makedirs(output_dir, exist_ok=True)"
   ]
  },
  {
   "cell_type": "code",
   "execution_count": 3,
   "metadata": {},
   "outputs": [
    {
     "name": "stdout",
     "output_type": "stream",
     "text": [
      "✅ 변환 완료: /Users/jlee/JDrvie/Dev/Koach/Trash/wav/native.wav\n",
      "✅ 변환 완료: /Users/jlee/JDrvie/Dev/Koach/Trash/wav/learner.wav\n"
     ]
    }
   ],
   "source": [
    "def convert_m4a_to_wav(m4a_path, wav_path, target_rate=16000):\n",
    "    sound = AudioSegment.from_file(m4a_path, format=\"m4a\")\n",
    "    sound = sound.set_channels(1)  # mono\n",
    "    sound = sound.set_frame_rate(target_rate)  # 16kHz\n",
    "    sound.export(wav_path, format=\"wav\")\n",
    "    print(f\"✅ 변환 완료: {wav_path}\")\n",
    "\n",
    "\n",
    "# 변환 실행 - m4a 폴더 내 모든 파일 처리\n",
    "for fname in os.listdir(m4a_dir):\n",
    "    if fname.endswith(\".m4a\"):\n",
    "        name = os.path.splitext(fname)[0]\n",
    "        m4a_path = os.path.join(m4a_dir, fname)\n",
    "        wav_path = os.path.join(wav_dir, f\"{name}.wav\")\n",
    "        convert_m4a_to_wav(m4a_path, wav_path)"
   ]
  },
  {
   "cell_type": "code",
   "execution_count": 5,
   "metadata": {},
   "outputs": [
    {
     "name": "stdout",
     "output_type": "stream",
     "text": [
      "✅ 정확한 lexicon.txt 생성 완료 (g2pk 사용)\n"
     ]
    }
   ],
   "source": [
    "from g2pk import G2p\n",
    "\n",
    "\n",
    "def generate_lexicon_with_g2pk(script_path, lexicon_path):\n",
    "    g2p = G2p()\n",
    "\n",
    "    with open(script_path, \"r\", encoding=\"utf-8\") as f:\n",
    "        text = f.read()\n",
    "\n",
    "    words = sorted(set(text.strip().split()))\n",
    "\n",
    "    with open(lexicon_path, \"w\", encoding=\"utf-8\") as f:\n",
    "        for word in words:\n",
    "            pron = g2p(word)  # 실제 발음\n",
    "            phonemes = \" \".join(pron.replace(\" \", \"\"))  # 공백 제거 후 자모 분리\n",
    "            f.write(f\"{word}\\t{phonemes}\\n\")\n",
    "\n",
    "    print(\"✅ 정확한 lexicon.txt 생성 완료 (g2pk 사용)\")\n",
    "\n",
    "\n",
    "# 사용 예시\n",
    "generate_lexicon_with_g2pk(\"./wav/learner.txt\", \"lexicon.txt\")"
   ]
  },
  {
   "cell_type": "code",
   "execution_count": 6,
   "metadata": {},
   "outputs": [
    {
     "name": "stdout",
     "output_type": "stream",
     "text": [
      "🧹 기존 정렬 결과 삭제: /Users/jlee/JDrvie/Dev/Koach/Trash/aligned\n",
      "🚀 MFA 정렬 시작...\n",
      "mfa align /Users/jlee/JDrvie/Dev/Koach/Trash/wav /Users/jlee/JDrvie/Dev/Koach/Trash/lexicon.txt /Users/jlee/Documents/MFA/pretrained_models/acoustic/korean_mfa.zip /Users/jlee/JDrvie/Dev/Koach/Trash/aligned --clean -o\n"
     ]
    },
    {
     "ename": "KeyboardInterrupt",
     "evalue": "",
     "output_type": "error",
     "traceback": [
      "\u001b[0;31m---------------------------------------------------------------------------\u001b[0m",
      "\u001b[0;31mKeyboardInterrupt\u001b[0m                         Traceback (most recent call last)",
      "Cell \u001b[0;32mIn[6], line 47\u001b[0m\n\u001b[1;32m     43\u001b[0m         \u001b[38;5;28mprint\u001b[39m(e\u001b[38;5;241m.\u001b[39mstderr)\n\u001b[1;32m     46\u001b[0m \u001b[38;5;66;03m# 실행\u001b[39;00m\n\u001b[0;32m---> 47\u001b[0m \u001b[43mrun_mfa_alignment\u001b[49m\u001b[43m(\u001b[49m\u001b[43mwav_dir\u001b[49m\u001b[43m,\u001b[49m\u001b[43m \u001b[49m\u001b[43mlexicon_path\u001b[49m\u001b[43m,\u001b[49m\u001b[43m \u001b[49m\u001b[43mmodel_path\u001b[49m\u001b[43m,\u001b[49m\u001b[43m \u001b[49m\u001b[43moutput_dir\u001b[49m\u001b[43m)\u001b[49m\n",
      "Cell \u001b[0;32mIn[6], line 29\u001b[0m, in \u001b[0;36mrun_mfa_alignment\u001b[0;34m(wav_dir, lexicon_path, model_path, output_dir)\u001b[0m\n\u001b[1;32m     27\u001b[0m \u001b[38;5;28mprint\u001b[39m(\u001b[38;5;124m\"\u001b[39m\u001b[38;5;124m🚀 MFA 정렬 시작...\u001b[39m\u001b[38;5;130;01m\\n\u001b[39;00m\u001b[38;5;124m\"\u001b[39m \u001b[38;5;241m+\u001b[39m \u001b[38;5;124m\"\u001b[39m\u001b[38;5;124m \u001b[39m\u001b[38;5;124m\"\u001b[39m\u001b[38;5;241m.\u001b[39mjoin(command))\n\u001b[1;32m     28\u001b[0m \u001b[38;5;28;01mtry\u001b[39;00m:\n\u001b[0;32m---> 29\u001b[0m     result \u001b[38;5;241m=\u001b[39m \u001b[43msubprocess\u001b[49m\u001b[38;5;241;43m.\u001b[39;49m\u001b[43mrun\u001b[49m\u001b[43m(\u001b[49m\n\u001b[1;32m     30\u001b[0m \u001b[43m        \u001b[49m\u001b[43mcommand\u001b[49m\u001b[43m,\u001b[49m\n\u001b[1;32m     31\u001b[0m \u001b[43m        \u001b[49m\u001b[43mcheck\u001b[49m\u001b[38;5;241;43m=\u001b[39;49m\u001b[38;5;28;43;01mTrue\u001b[39;49;00m\u001b[43m,\u001b[49m\n\u001b[1;32m     32\u001b[0m \u001b[43m        \u001b[49m\u001b[43mstdout\u001b[49m\u001b[38;5;241;43m=\u001b[39;49m\u001b[43msubprocess\u001b[49m\u001b[38;5;241;43m.\u001b[39;49m\u001b[43mPIPE\u001b[49m\u001b[43m,\u001b[49m\n\u001b[1;32m     33\u001b[0m \u001b[43m        \u001b[49m\u001b[43mstderr\u001b[49m\u001b[38;5;241;43m=\u001b[39;49m\u001b[43msubprocess\u001b[49m\u001b[38;5;241;43m.\u001b[39;49m\u001b[43mPIPE\u001b[49m\u001b[43m,\u001b[49m\n\u001b[1;32m     34\u001b[0m \u001b[43m        \u001b[49m\u001b[43mtext\u001b[49m\u001b[38;5;241;43m=\u001b[39;49m\u001b[38;5;28;43;01mTrue\u001b[39;49;00m\u001b[43m,\u001b[49m\n\u001b[1;32m     35\u001b[0m \u001b[43m    \u001b[49m\u001b[43m)\u001b[49m\n\u001b[1;32m     36\u001b[0m     \u001b[38;5;28mprint\u001b[39m(\u001b[38;5;124m\"\u001b[39m\u001b[38;5;124m✅ 정렬 완료!\u001b[39m\u001b[38;5;124m\"\u001b[39m)\n\u001b[1;32m     37\u001b[0m     \u001b[38;5;28mprint\u001b[39m(result\u001b[38;5;241m.\u001b[39mstdout)\n",
      "File \u001b[0;32m~/anaconda3/envs/Koach/lib/python3.8/subprocess.py:495\u001b[0m, in \u001b[0;36mrun\u001b[0;34m(input, capture_output, timeout, check, *popenargs, **kwargs)\u001b[0m\n\u001b[1;32m    493\u001b[0m \u001b[38;5;28;01mwith\u001b[39;00m Popen(\u001b[38;5;241m*\u001b[39mpopenargs, \u001b[38;5;241m*\u001b[39m\u001b[38;5;241m*\u001b[39mkwargs) \u001b[38;5;28;01mas\u001b[39;00m process:\n\u001b[1;32m    494\u001b[0m     \u001b[38;5;28;01mtry\u001b[39;00m:\n\u001b[0;32m--> 495\u001b[0m         stdout, stderr \u001b[38;5;241m=\u001b[39m \u001b[43mprocess\u001b[49m\u001b[38;5;241;43m.\u001b[39;49m\u001b[43mcommunicate\u001b[49m\u001b[43m(\u001b[49m\u001b[38;5;28;43minput\u001b[39;49m\u001b[43m,\u001b[49m\u001b[43m \u001b[49m\u001b[43mtimeout\u001b[49m\u001b[38;5;241;43m=\u001b[39;49m\u001b[43mtimeout\u001b[49m\u001b[43m)\u001b[49m\n\u001b[1;32m    496\u001b[0m     \u001b[38;5;28;01mexcept\u001b[39;00m TimeoutExpired \u001b[38;5;28;01mas\u001b[39;00m exc:\n\u001b[1;32m    497\u001b[0m         process\u001b[38;5;241m.\u001b[39mkill()\n",
      "File \u001b[0;32m~/anaconda3/envs/Koach/lib/python3.8/subprocess.py:1028\u001b[0m, in \u001b[0;36mPopen.communicate\u001b[0;34m(self, input, timeout)\u001b[0m\n\u001b[1;32m   1025\u001b[0m     endtime \u001b[38;5;241m=\u001b[39m \u001b[38;5;28;01mNone\u001b[39;00m\n\u001b[1;32m   1027\u001b[0m \u001b[38;5;28;01mtry\u001b[39;00m:\n\u001b[0;32m-> 1028\u001b[0m     stdout, stderr \u001b[38;5;241m=\u001b[39m \u001b[38;5;28;43mself\u001b[39;49m\u001b[38;5;241;43m.\u001b[39;49m\u001b[43m_communicate\u001b[49m\u001b[43m(\u001b[49m\u001b[38;5;28;43minput\u001b[39;49m\u001b[43m,\u001b[49m\u001b[43m \u001b[49m\u001b[43mendtime\u001b[49m\u001b[43m,\u001b[49m\u001b[43m \u001b[49m\u001b[43mtimeout\u001b[49m\u001b[43m)\u001b[49m\n\u001b[1;32m   1029\u001b[0m \u001b[38;5;28;01mexcept\u001b[39;00m \u001b[38;5;167;01mKeyboardInterrupt\u001b[39;00m:\n\u001b[1;32m   1030\u001b[0m     \u001b[38;5;66;03m# https://bugs.python.org/issue25942\u001b[39;00m\n\u001b[1;32m   1031\u001b[0m     \u001b[38;5;66;03m# See the detailed comment in .wait().\u001b[39;00m\n\u001b[1;32m   1032\u001b[0m     \u001b[38;5;28;01mif\u001b[39;00m timeout \u001b[38;5;129;01mis\u001b[39;00m \u001b[38;5;129;01mnot\u001b[39;00m \u001b[38;5;28;01mNone\u001b[39;00m:\n",
      "File \u001b[0;32m~/anaconda3/envs/Koach/lib/python3.8/subprocess.py:1884\u001b[0m, in \u001b[0;36mPopen._communicate\u001b[0;34m(self, input, endtime, orig_timeout)\u001b[0m\n\u001b[1;32m   1877\u001b[0m     \u001b[38;5;28mself\u001b[39m\u001b[38;5;241m.\u001b[39m_check_timeout(endtime, orig_timeout,\n\u001b[1;32m   1878\u001b[0m                         stdout, stderr,\n\u001b[1;32m   1879\u001b[0m                         skip_check_and_raise\u001b[38;5;241m=\u001b[39m\u001b[38;5;28;01mTrue\u001b[39;00m)\n\u001b[1;32m   1880\u001b[0m     \u001b[38;5;28;01mraise\u001b[39;00m \u001b[38;5;167;01mRuntimeError\u001b[39;00m(  \u001b[38;5;66;03m# Impossible :)\u001b[39;00m\n\u001b[1;32m   1881\u001b[0m         \u001b[38;5;124m'\u001b[39m\u001b[38;5;124m_check_timeout(..., skip_check_and_raise=True) \u001b[39m\u001b[38;5;124m'\u001b[39m\n\u001b[1;32m   1882\u001b[0m         \u001b[38;5;124m'\u001b[39m\u001b[38;5;124mfailed to raise TimeoutExpired.\u001b[39m\u001b[38;5;124m'\u001b[39m)\n\u001b[0;32m-> 1884\u001b[0m ready \u001b[38;5;241m=\u001b[39m \u001b[43mselector\u001b[49m\u001b[38;5;241;43m.\u001b[39;49m\u001b[43mselect\u001b[49m\u001b[43m(\u001b[49m\u001b[43mtimeout\u001b[49m\u001b[43m)\u001b[49m\n\u001b[1;32m   1885\u001b[0m \u001b[38;5;28mself\u001b[39m\u001b[38;5;241m.\u001b[39m_check_timeout(endtime, orig_timeout, stdout, stderr)\n\u001b[1;32m   1887\u001b[0m \u001b[38;5;66;03m# XXX Rewrite these to use non-blocking I/O on the file\u001b[39;00m\n\u001b[1;32m   1888\u001b[0m \u001b[38;5;66;03m# objects; they are no longer using C stdio!\u001b[39;00m\n",
      "File \u001b[0;32m~/anaconda3/envs/Koach/lib/python3.8/selectors.py:415\u001b[0m, in \u001b[0;36m_PollLikeSelector.select\u001b[0;34m(self, timeout)\u001b[0m\n\u001b[1;32m    413\u001b[0m ready \u001b[38;5;241m=\u001b[39m []\n\u001b[1;32m    414\u001b[0m \u001b[38;5;28;01mtry\u001b[39;00m:\n\u001b[0;32m--> 415\u001b[0m     fd_event_list \u001b[38;5;241m=\u001b[39m \u001b[38;5;28;43mself\u001b[39;49m\u001b[38;5;241;43m.\u001b[39;49m\u001b[43m_selector\u001b[49m\u001b[38;5;241;43m.\u001b[39;49m\u001b[43mpoll\u001b[49m\u001b[43m(\u001b[49m\u001b[43mtimeout\u001b[49m\u001b[43m)\u001b[49m\n\u001b[1;32m    416\u001b[0m \u001b[38;5;28;01mexcept\u001b[39;00m \u001b[38;5;167;01mInterruptedError\u001b[39;00m:\n\u001b[1;32m    417\u001b[0m     \u001b[38;5;28;01mreturn\u001b[39;00m ready\n",
      "\u001b[0;31mKeyboardInterrupt\u001b[0m: "
     ]
    }
   ],
   "source": [
    "import subprocess\n",
    "import shutil\n",
    "import os\n",
    "\n",
    "\n",
    "def run_mfa_alignment(wav_dir, lexicon_path, model_path, output_dir):\n",
    "    if not shutil.which(\"mfa\"):\n",
    "        raise EnvironmentError(\n",
    "            \"❌ MFA 명령어를 찾을 수 없습니다. 설치 여부를 확인하세요.\"\n",
    "        )\n",
    "\n",
    "    if os.path.exists(output_dir):\n",
    "        shutil.rmtree(output_dir)\n",
    "        print(f\"🧹 기존 정렬 결과 삭제: {output_dir}\")\n",
    "\n",
    "    command = [\n",
    "        \"mfa\",\n",
    "        \"align\",\n",
    "        wav_dir,\n",
    "        lexicon_path,\n",
    "        model_path,\n",
    "        output_dir,\n",
    "        \"--clean\",\n",
    "        \"-o\",\n",
    "    ]\n",
    "\n",
    "    print(\"🚀 MFA 정렬 시작...\\n\" + \" \".join(command))\n",
    "    try:\n",
    "        result = subprocess.run(\n",
    "            command,\n",
    "            check=True,\n",
    "            stdout=subprocess.PIPE,\n",
    "            stderr=subprocess.PIPE,\n",
    "            text=True,\n",
    "        )\n",
    "        print(\"✅ 정렬 완료!\")\n",
    "        print(result.stdout)\n",
    "    except subprocess.CalledProcessError as e:\n",
    "        print(\"❌ 정렬 실패!\")\n",
    "        print(\"🔻 STDOUT:\")\n",
    "        print(e.stdout)\n",
    "        print(\"🔻 STDERR:\")\n",
    "        print(e.stderr)\n",
    "\n",
    "\n",
    "# 실행\n",
    "run_mfa_alignment(wav_dir, lexicon_path, model_path, output_dir)"
   ]
  },
  {
   "cell_type": "code",
   "execution_count": null,
   "metadata": {},
   "outputs": [],
   "source": [
    "def load_textgrid(file_path):\n",
    "    tg = tgio.openTextgrid(file_path, includeEmptyIntervals=True)\n",
    "    return tg\n",
    "\n",
    "\n",
    "def plot_word_tiers(tg, speaker_label, tier_name=\"word\"):\n",
    "    tier = tg.tierDict[tier_name]\n",
    "    entries = tier.entries\n",
    "\n",
    "    words = []\n",
    "    start_times = []\n",
    "    durations = []\n",
    "\n",
    "    for word, start, end in entries:\n",
    "        if word.strip() == \"\":\n",
    "            continue\n",
    "        words.append(word)\n",
    "        start_times.append(start)\n",
    "        durations.append(end - start)\n",
    "\n",
    "    fig, ax = plt.subplots(figsize=(10, 1.5))\n",
    "    ax.barh(\n",
    "        [0] * len(words),\n",
    "        durations,\n",
    "        left=start_times,\n",
    "        height=0.4,\n",
    "        align=\"center\",\n",
    "        color=\"skyblue\",\n",
    "    )\n",
    "    for i, word in enumerate(words):\n",
    "        ax.text(\n",
    "            start_times[i] + durations[i] / 2,\n",
    "            0,\n",
    "            word,\n",
    "            ha=\"center\",\n",
    "            va=\"center\",\n",
    "            fontsize=10,\n",
    "        )\n",
    "\n",
    "    ax.set_title(f\"{speaker_label} 발화 - 단어 정렬\")\n",
    "    ax.set_xlabel(\"시간 (초)\")\n",
    "    ax.set_yticks([])\n",
    "    ax.set_xlim(\n",
    "        0, max(start_times[i] + durations[i] for i in range(len(durations))) + 0.5\n",
    "    )\n",
    "    plt.tight_layout()\n",
    "    plt.show()"
   ]
  },
  {
   "cell_type": "code",
   "execution_count": null,
   "metadata": {},
   "outputs": [],
   "source": [
    "def analyze_word_timings(native_tg, learner_tg, tier_name=\"word\"):\n",
    "    tier_native = native_tg.tierDict[tier_name].entries\n",
    "    tier_learner = learner_tg.tierDict[tier_name].entries\n",
    "\n",
    "    native_map = {\n",
    "        word: end - start for word, start, end in tier_native if word.strip() != \"\"\n",
    "    }\n",
    "    learner_map = {\n",
    "        word: end - start for word, start, end in tier_learner if word.strip() != \"\"\n",
    "    }\n",
    "\n",
    "    print(\"\\n📊 단어별 발화 시간 비교:\")\n",
    "    print(\n",
    "        \"{:<10} {:>10} {:>10} {:>10}\".format(\n",
    "            \"단어\", \"원어민(s)\", \"학습자(s)\", \"차이(s)\"\n",
    "        )\n",
    "    )\n",
    "    print(\"-\" * 40)\n",
    "    for word in native_map:\n",
    "        if word in learner_map:\n",
    "            native_dur = native_map[word]\n",
    "            learner_dur = learner_map[word]\n",
    "            diff = learner_dur - native_dur\n",
    "            print(f\"{word:<10} {native_dur:>10.2f} {learner_dur:>10.2f} {diff:>+10.2f}\")\n",
    "        else:\n",
    "            print(f\"{word:<10} {'(없음)':>10} {'(없음)':>10} {'(불가)':>10}\")"
   ]
  },
  {
   "cell_type": "code",
   "execution_count": null,
   "metadata": {},
   "outputs": [],
   "source": [
    "# TextGrid 로딩\n",
    "learner_tg_path = os.path.join(output_dir, \"learner.TextGrid\")\n",
    "native_tg_path = os.path.join(output_dir, \"native.TextGrid\")\n",
    "\n",
    "learner_tg = load_textgrid(learner_tg_path)\n",
    "native_tg = load_textgrid(native_tg_path)\n",
    "\n",
    "# 시각화\n",
    "plot_word_tiers(native_tg, \"원어민\")\n",
    "plot_word_tiers(learner_tg, \"학습자\")\n",
    "\n",
    "# 시간 비교\n",
    "analyze_word_timings(native_tg, learner_tg)"
   ]
  }
 ],
 "metadata": {
  "kernelspec": {
   "display_name": "Koach",
   "language": "python",
   "name": "python3"
  },
  "language_info": {
   "codemirror_mode": {
    "name": "ipython",
    "version": 3
   },
   "file_extension": ".py",
   "mimetype": "text/x-python",
   "name": "python",
   "nbconvert_exporter": "python",
   "pygments_lexer": "ipython3",
   "version": "3.8.20"
  }
 },
 "nbformat": 4,
 "nbformat_minor": 2
}
